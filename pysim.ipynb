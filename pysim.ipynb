{
 "cells": [
  {
   "cell_type": "markdown",
   "metadata": {},
   "source": [
    "# Import Libraries"
   ]
  },
  {
   "cell_type": "code",
   "execution_count": 1,
   "metadata": {},
   "outputs": [
    {
     "name": "stdout",
     "output_type": "stream",
     "text": [
      "/hri/localdisk/Amir/AttentiveSupport/build\n"
     ]
    }
   ],
   "source": [
    "import platform\n",
    "import time\n",
    "import os\n",
    "os.chdir('/hri/localdisk/Amir/AttentiveSupport/build')\n",
    "print(os.getcwd())\n",
    "import json\n",
    "import numpy as np\n",
    "import requests\n",
    "url = \"http://172.26.1.195:5000\"\n",
    "import sys\n",
    "\n",
    "\n",
    "if platform.system() == \"Linux\":\n",
    "    sys.path.append(\"lib\")\n",
    "elif platform.system() == \"Windows\":\n",
    "    sys.path.append(\"bin\")\n",
    "\n",
    "from pyAffaction import *\n",
    "import random\n",
    "setLogLevel(-1)"
   ]
  },
  {
   "cell_type": "code",
   "execution_count": 2,
   "metadata": {},
   "outputs": [],
   "source": [
    "def map_sim2ccdp(pos):\n",
    "    n_d = pos.shape[-1]\n",
    "    init_shape = pos.shape\n",
    "    pos = pos.reshape([-1,n_d])\n",
    "    if n_d == 2:\n",
    "        pos_ccdp = pos[:,[1,0]]/0.7\n",
    "    elif n_d == 3:\n",
    "        pos_ccdp = pos[:,[1,0,2]]/0.7\n",
    "    pos_ccdp[:,0] *= -1\n",
    "    return pos_ccdp.reshape(init_shape)\n",
    "\n",
    "def map_ccdp2sim(pos):\n",
    "    n_d = pos.shape[-1]\n",
    "    init_shape = pos.shape\n",
    "    pos = pos.reshape([-1,n_d])\n",
    "    if n_d == 2:\n",
    "        pos_sim = pos[:,[1,0]]*0.7\n",
    "    elif n_d == 3:\n",
    "        pos_sim = pos[:,[1,0,2]]*0.7\n",
    "    elif n_d == 4:\n",
    "        pos_sim = pos[:,[1,0,2,3]]\n",
    "        pos_sim[:,:-1] *= 0.7\n",
    "    pos_sim[:,1] *= -1\n",
    "    return pos_sim.reshape(init_shape)"
   ]
  },
  {
   "cell_type": "code",
   "execution_count": 7,
   "metadata": {},
   "outputs": [],
   "source": [
    "# Get Object Locations\n",
    "table_pos = np.array([-0.1, 0.2, 1.10])\n",
    "\n",
    "batch_size = 64\n",
    "n_history = 2\n",
    "n_pred = 8\n",
    "applied = 8\n",
    "obj_height = 0.05\n",
    "\n",
    "box_locations = [\n",
    "    np.array([[0,0.35]]),\n",
    "    np.array([[0.21,0.0]]),\n",
    "    np.array([[0,-0.35]])\n",
    "]\n",
    "\n",
    "\n",
    "def get_obj_locations(sim):\n",
    "    states = json.loads(sim.get_state())['entities']\n",
    "    positions = []\n",
    "    for state in states:\n",
    "        obj_color = state[\"color\"]\n",
    "        if obj_color == 'GREEN':\n",
    "            psotions_i = state[\"position\"]\n",
    "            rel_table_pos = psotions_i - table_pos\n",
    "            # print(psotions_i, rel_table_pos)\n",
    "            if rel_table_pos[2] > -0.5:\n",
    "                positions.append(rel_table_pos[:2])\n",
    "    positions_array = np.array(positions)\n",
    "    return positions_array\n",
    "\n",
    "\n",
    "\n",
    "def get_obj_locations_3D(sim):\n",
    "    states = json.loads(sim.get_state())['entities']\n",
    "    positions = []\n",
    "    for state in states:\n",
    "        obj_color = state[\"color\"]\n",
    "        if obj_color == 'GREEN':\n",
    "            psotions_i = state[\"position\"]\n",
    "            rel_table_pos = psotions_i - table_pos\n",
    "            # print(psotions_i, rel_table_pos)\n",
    "            if rel_table_pos[2] > -0.5:\n",
    "                positions.append(rel_table_pos[:3])\n",
    "    positions_array = np.array(positions)\n",
    "    return positions_array\n",
    "\n",
    "# Filter those that are located in a box\n",
    "def mask_in_positions(obj_positions, box_positions):\n",
    "    dists = np.zeros([len(obj_positions), len(box_positions)])\n",
    "    for i, box in enumerate(box_positions):\n",
    "        dists[:,i] = np.linalg.norm(obj_positions - box, axis = 1)\n",
    "    closest_boxes = np.min(dists, axis = 1)\n",
    "    check_reached = (closest_boxes < 0.13)\n",
    "    not_reached_idx = [i for i in range(len(obj_positions)) if check_reached[i] == 0]\n",
    "    masked_pos = obj_positions[not_reached_idx,:]\n",
    "    return masked_pos\n",
    "\n",
    "\n",
    "def count_available_obj(sim):\n",
    "    obj_locations = get_obj_locations(sim)\n",
    "    available_obj = mask_in_positions(obj_locations,box_locations)\n",
    "    return available_obj.shape[0]\n",
    "\n",
    "# Find the closest object\n",
    "def closest_object(sim):\n",
    "    end_effector_pos = get_end_effector_pos(sim)\n",
    "    obj_locations = get_obj_locations(sim)\n",
    "    available_objects = mask_in_positions(obj_locations, box_locations)\n",
    "    ee_pos_2d = end_effector_pos[:2].reshape([1,-1])\n",
    "    dists = np.linalg.norm(available_objects - ee_pos_2d, axis = 1)\n",
    "    closest_obj = np.argmin(dists, axis = 0)\n",
    "    return available_objects[closest_obj,:]\n",
    "\n",
    "def get_end_effector_pos(sim):\n",
    "    states = json.loads(sim.get_state())\n",
    "    for gripper in states[\"agents\"][0][\"manipulators\"]:\n",
    "        if gripper[\"name\"] == \"hand_left_robot\":\n",
    "            pos = gripper[\"position\"]\n",
    "            relative_pos_table = pos.copy()\n",
    "            relative_pos_table -= table_pos\n",
    "            return relative_pos_table\n",
    "\n",
    "\n",
    "\n",
    "# Plan traj\n",
    "v_des = 0.5\n",
    "def plan_traj(sim):\n",
    "    obj_loc = closest_object(sim)\n",
    "    obj_pos_3D = np.concatenate([obj_loc,[0.04]])\n",
    "    ee_pos = get_end_effector_pos(sim)\n",
    "    box_location = box_locations[2].reshape([-1])\n",
    "    box_loc_3D = np.concatenate([box_location,[0.0]])\n",
    "\n",
    "    p0 = ee_pos.copy()\n",
    "    p0 [2] -= 0.1\n",
    "    p1 = obj_pos_3D.copy()\n",
    "    p1[2] += 0.15\n",
    "    p2 = obj_pos_3D.copy()\n",
    "    p2[2] -= 0.00\n",
    "    p3 = p1.copy()\n",
    "    p4 = box_loc_3D.copy()\n",
    "    p4[2] += 0.15\n",
    "\n",
    "    all_trajs = np.zeros([7,5])\n",
    "    all_trajs[0,0] = 3\n",
    "    all_trajs[0,1:4] = p0\n",
    "    all_trajs[0,4] = 0\n",
    "\n",
    "    delta_move = np.linalg.norm(p1 - p0)\n",
    "    all_trajs[1,0] = all_trajs[0,0] + delta_move/v_des + .1\n",
    "    all_trajs[1,1:4] = p1\n",
    "    all_trajs[1,4] = 0\n",
    "\n",
    "    delta_move = np.linalg.norm(p2 - p1)\n",
    "    all_trajs[2,0] = all_trajs[1,0] + delta_move/v_des + .1\n",
    "    all_trajs[2,1:4] = p2\n",
    "    all_trajs[2,4] = 0\n",
    "\n",
    "    all_trajs[3,0] = all_trajs[2,0] + 1\n",
    "    all_trajs[3,1:4] = p2\n",
    "    all_trajs[3,4] = 1\n",
    "\n",
    "    delta_move = np.linalg.norm(p3 - p2)\n",
    "    all_trajs[4,0] = all_trajs[3,0] + delta_move/v_des + .1\n",
    "    all_trajs[4,1:4] = p3\n",
    "    all_trajs[4,4] = 1\n",
    "\n",
    "    delta_move = np.linalg.norm(p4 - p3)\n",
    "    all_trajs[5,0] = all_trajs[4,0] + delta_move/v_des + .1\n",
    "    all_trajs[5,1:4] = p4\n",
    "    all_trajs[5,4] = 1\n",
    "\n",
    "    all_trajs[6,0] = all_trajs[5,0] + 1\n",
    "    all_trajs[6,1:4] = p4\n",
    "    all_trajs[6,4] = 0\n",
    "\n",
    "\n",
    "    np.savetxt('test_robot_traj.txt', all_trajs, fmt='%.3f', delimiter=' ')\n",
    "\n",
    "\n",
    "\n",
    "def plan_traj_ccdp(sim, failure_modes = []):\n",
    "    obj_loc_sim = closest_object(sim)\n",
    "    ee_pos_sim = get_end_effector_pos(sim)\n",
    "    \n",
    "    obj_loc = map_sim2ccdp(obj_loc_sim)\n",
    "    ee_pos = map_sim2ccdp(ee_pos_sim)\n",
    "\n",
    "    payload = {\"jsonrpc\": \"2.0\",\n",
    "                \"method\": \"get_traj\",\n",
    "                \"params\": [ee_pos.tolist(),obj_loc.tolist(), failure_modes],\n",
    "                \"id\": 1}\n",
    "\n",
    "\n",
    "    response = requests.post(url, json=payload)\n",
    "    result = response.json()\n",
    "    output_array = np.array(result['result'])\n",
    "    applied_future = output_array[0,:,:]\n",
    "    traj_sim = map_ccdp2sim(applied_future)\n",
    "    return traj_sim\n",
    "\n",
    "\n",
    "\n",
    "def prepare_traj_robot(traj,max_des_height = 0.2, min_des_height = 0.03):\n",
    "    v_des = 0.1\n",
    "    traj_time_stamped = np.zeros([1, traj.shape[1]+1])\n",
    "    traj_time_stamped[0,1:4] = traj[0,:3]\n",
    "    traj_time_stamped[0,0] = 1\n",
    "    traj_time_stamped[0,3] = max_des_height\n",
    "\n",
    "    min_height = traj[1:,2].min()\n",
    "    max_height = traj[1:,2].max()\n",
    "    mean_height = (min_height + max_height)/2\n",
    "    traj_i = np.zeros([1,5])\n",
    "    for i in range(1, traj.shape[0]):\n",
    "        traj_i[0,1:3] = traj[i,:2] \n",
    "        traj_i[0,3] = (traj[i,2] < mean_height) * min_des_height + (traj[i,2] > mean_height) * max_des_height \n",
    "        dist_i = np.linalg.norm(traj_i[0,1:4] - traj_time_stamped[-1,1:4])\n",
    "        delta_t = dist_i/v_des + 0.1\n",
    "        traj_i[0,0] = traj_time_stamped[-1,0] + delta_t\n",
    "        if traj[i,3] == 1 and traj[i-1,3] == 0:\n",
    "            traj_time_stamped = np.concatenate([traj_time_stamped, traj_i], axis = 0)\n",
    "            traj_i[0,4] = 1\n",
    "            traj_i[0,0] += 1\n",
    "            traj_time_stamped = np.concatenate([traj_time_stamped, traj_i], axis = 0)\n",
    "        else:\n",
    "            traj_time_stamped = np.concatenate([traj_time_stamped, traj_i], axis = 0)\n",
    "    traj_i[0,4] = 0\n",
    "    traj_i[0,0] += 1\n",
    "    traj_time_stamped = np.concatenate([traj_time_stamped, traj_i], axis = 0)\n",
    "    np.savetxt('test_robot_traj.txt', traj_time_stamped, fmt='%.3f', delimiter=' ')\n",
    "\n",
    "\n",
    "\n",
    "def find_closest_box(pos_2d):\n",
    "    min_dist = 1000\n",
    "    min_id = -1\n",
    "    for i in range(len(box_locations)):\n",
    "        dist_i = np.linalg.norm(pos_2d - box_locations[i])\n",
    "        if dist_i < min_dist:\n",
    "            min_id = i\n",
    "            min_dist = dist_i\n",
    "    box_loc_sim = box_locations[min_id]\n",
    "    return map_sim2ccdp(box_loc_sim)\n",
    "\n"
   ]
  },
  {
   "cell_type": "code",
   "execution_count": 8,
   "metadata": {},
   "outputs": [
    {
     "name": "stderr",
     "output_type": "stream",
     "text": [
      "\n",
      "\n",
      "********************************************************************************\n",
      "* LLMSim initialized\n",
      "********************************************************************************\n"
     ]
    }
   ],
   "source": [
    "sim = LlmSim()\n",
    "sim.noTextGui = True\n",
    "sim.unittest = False\n",
    "sim.speedUp = 1\n",
    "sim.noLimits = False\n",
    "sim.verbose = False\n",
    "sim.configDirectory = \"config/xml/CCDP\"\n",
    "sim.xmlFileName = \"g_iros25b.xml\"\n",
    "sim.addComponentArgument(\"-physics Bullet -physics_config config/xml/CCDP/physics_ccdp.xml\")\n",
    "#sim.addComponentArgument(\"-landmarks_zmq -yolo_tracking -landmarks_connection tcp://localhost:5556\")\n",
    "#sim.addComponentArgument(\"-landmarks_zmq2 -aruco_tracking2 -landmarks_connection2 tcp://localhost:5555\")\n",
    "\n",
    "sim.init(True)\n",
    "sim.run()\n",
    "\n"
   ]
  },
  {
   "cell_type": "code",
   "execution_count": 10,
   "metadata": {},
   "outputs": [
    {
     "name": "stderr",
     "output_type": "stream",
     "text": [
      "[AffAction/examples/ExampleActionsECS.cpp(1043)]: SetGazeTarget(hand_base_left)\n",
      "qt.qpa.plugin: Could not find the Qt platform plugin \"wayland\" in \"\"\n"
     ]
    }
   ],
   "source": [
    "sim.reset()\n",
    "# time.sleep(2)"
   ]
  },
  {
   "cell_type": "code",
   "execution_count": 11,
   "metadata": {},
   "outputs": [
    {
     "name": "stdout",
     "output_type": "stream",
     "text": [
      "traj is ready\n",
      "failure occured for target: [[-0.5  0. ]]\n",
      "traj is ready\n",
      "traj is ready\n",
      "traj is ready\n",
      "traj is ready\n"
     ]
    }
   ],
   "source": [
    "\n",
    "count_av_apple = count_available_obj(sim)\n",
    "prev_count = count_av_apple\n",
    "failure_modes = []\n",
    "while count_av_apple > 0 and len(failure_modes)<3:\n",
    "    # print(\"count_available_obj(sim) \")\n",
    "    \n",
    "    # torch.manual_seed(0)\n",
    "    # random.seed(0)\n",
    "    # np.random.seed(0)\n",
    "    traj = plan_traj_ccdp(sim, failure_modes)\n",
    "    print(\"traj is ready\")\n",
    "    prepare_traj_robot(traj)\n",
    "    sim.createActionFile()\n",
    "    action_fb = sim.plan_fb(\"load action_iros.xml; pose default_top\")\n",
    "    if action_fb[:8] == \"SUCCESS\":\n",
    "        time.sleep(1)\n",
    "        count_av_apple = count_available_obj(sim)\n",
    "        if count_av_apple >= prev_count:\n",
    "            final_goal = traj[-1,:2]\n",
    "            closest_box = find_closest_box(final_goal)\n",
    "            print(\"failure occured for target:\", closest_box)\n",
    "            failure_modes.append(closest_box.tolist())\n",
    "        prev_count = count_av_apple\n",
    "    else:\n",
    "        print(\"Closest object is reachable\")\n",
    "        time.sleep(5)\n",
    "    "
   ]
  },
  {
   "cell_type": "markdown",
   "metadata": {},
   "source": []
  },
  {
   "cell_type": "code",
   "execution_count": 19,
   "metadata": {},
   "outputs": [],
   "source": [
    "a = sim.plan_fb(\"load action_iros.xml; pose default_top\")"
   ]
  },
  {
   "cell_type": "code",
   "execution_count": 29,
   "metadata": {},
   "outputs": [
    {
     "name": "stdout",
     "output_type": "stream",
     "text": [
      "SUCCESS\n"
     ]
    }
   ],
   "source": [
    "\n",
    "    print(a)"
   ]
  },
  {
   "cell_type": "code",
   "execution_count": 10,
   "metadata": {},
   "outputs": [
    {
     "name": "stderr",
     "output_type": "stream",
     "text": [
      "[Rcs/src/RcsGraphics/RcsViewer.cpp: handle(1902)]: Setting debug level to 1\n"
     ]
    }
   ],
   "source": [
    "sim.createActionFile()"
   ]
  },
  {
   "cell_type": "code",
   "execution_count": 11,
   "metadata": {},
   "outputs": [
    {
     "name": "stdout",
     "output_type": "stream",
     "text": [
      "-1 - 0   thread: 10\n"
     ]
    },
    {
     "name": "stderr",
     "output_type": "stream",
     "text": [
      "[AffAction/src/ActionSequence.cpp(165)]: Received sequence with 4 parameters (two are expected).\n",
      "[AffAction/src/PredictionTree.cpp(1197)]: Planning with 12 threads - early exit is TRUE\n",
      "[AffAction/src/ActionFromXML.cpp(91)]: Creating action: iros25\n",
      "[AffAction/src/PredictionTree.cpp(1164)]: Stopping thread 0 - 0 running\n",
      "[AffAction/src/PredictionTree.cpp(1029)]: Started thread 9 parent: 0\n",
      "[AffAction/src/PredictionTree.cpp : expand(1045)]: duration is 10.000000\n",
      "[AffAction/src/PredictionTree.cpp(1210)]: Started threads: 10 stopped threads: 10\n",
      "[AffAction/examples/ExampleActionsECS.cpp(1362)]: Solution 0 is NOT SUCCESSFUL\n",
      "[AffAction/examples/ExampleActionsECS.cpp(1388)]: Found 1 error messages of solution 0\n",
      "[AffAction/examples/ExampleActionsECS.cpp(1391)]: ACTION: 'load action_iros.xml' ERROR: 'Collision problem' REASON: 'The thumb_left collides with the table' SUGGESTION: 'Try to get the table out of the way' DEVELOPER: 'Collision detected at pair-idx 0 between thumb_left and table AffAction/src/TrajectoryPredictor.cpp line 1176 at t=5.080000 from 16.850000'\n",
      "[AffAction/examples/ExampleActionsECS.cpp(1384)]: No path found for solution index 1\n",
      "[AffAction/examples/ExampleActionsECS.cpp(1388)]: Found 0 error messages of solution 1\n",
      "[AffAction/examples/ExampleActionsECS.cpp(1384)]: No path found for solution index 2\n",
      "[AffAction/examples/ExampleActionsECS.cpp(1388)]: Found 0 error messages of solution 2\n",
      "[AffAction/examples/ExampleActionsECS.cpp(1384)]: No path found for solution index 3\n",
      "[AffAction/examples/ExampleActionsECS.cpp(1388)]: Found 0 error messages of solution 3\n",
      "[AffAction/examples/ExampleActionsECS.cpp(1412)]: Could not find solution: Only 0 steps of 2 are valid\n",
      "[AffAction/examples/ExampleActionsECS.cpp(1764)]: Clearing action stack, number of failed actions: 2\n",
      "[AffAction/examples/ExampleActionsECS.cpp : onActionResult(1773)]: ActionStack is empty, unfreezing perception\n",
      "[AffAction/examples/ExampleActionsECS.cpp(1778)]: lastActionResult has 1 entries:\n",
      "[AffAction/examples/ExampleActionsECS.cpp(1781)]: ACTION: 'load action_iros.xml' ERROR: 'Collision problem' REASON: 'The thumb_left collides with the table' SUGGESTION: 'Try to get the table out of the way' DEVELOPER: 'Collision detected at pair-idx 0 between thumb_left and table AffAction/src/TrajectoryPredictor.cpp line 1176 at t=5.080000 from 16.850000'\n",
      "[AffAction/examples/ExampleActionsECS.cpp : _planActionSequenceThreaded(1451)]: Successfully wrote PredictionTreeDFS.dot\n",
      "[AffAction/python/module.cpp : wait(107)]: Done wait\n",
      "[AffAction/python/module.cpp(769)]: No solution found:\n",
      "  Issue 0: The thumb_left collides with the table Suggestion: Try to get the table out of the way\n",
      "\n"
     ]
    },
    {
     "data": {
      "text/plain": [
       "'No solution found:\\n  Issue 0: The thumb_left collides with the table Suggestion: Try to get the table out of the way\\n'"
      ]
     },
     "execution_count": 11,
     "metadata": {},
     "output_type": "execute_result"
    }
   ],
   "source": [
    "\n",
    "sim.plan_fb(\"load action_iros.xml; pose default_top\")"
   ]
  },
  {
   "cell_type": "code",
   "execution_count": 4,
   "metadata": {},
   "outputs": [],
   "source": []
  },
  {
   "cell_type": "code",
   "execution_count": 28,
   "metadata": {},
   "outputs": [
    {
     "name": "stdout",
     "output_type": "stream",
     "text": [
      "[[-0.20000103  0.29999898]\n",
      " [-0.20000001 -0.29998241]]\n"
     ]
    }
   ],
   "source": [
    "a = get_obj_locations(sim)\n",
    "c = mask_in_positions(a,box_locations)\n",
    "print(c)"
   ]
  },
  {
   "cell_type": "code",
   "execution_count": 20,
   "metadata": {},
   "outputs": [
    {
     "name": "stdout",
     "output_type": "stream",
     "text": [
      "[[2.06156524e-01 5.08035659e-01 6.80072854e-01]\n",
      " [4.08165198e-01 1.43580175e-06 4.08167355e-01]\n",
      " [6.80061952e-01 5.08028289e-01 2.06158231e-01]]\n"
     ]
    }
   ],
   "source": [
    "dists = np.zeros([len(a), len(box_locations)])\n",
    "for i, box in enumerate(box_locations):\n",
    "    dists[:,i] = np.linalg.norm(a - box, axis = 1)\n",
    "print(dists)\n",
    "# check_reached = (dists < 0.1).sum(axis = 1)\n",
    "# not_reached_idx = [i for i in range(len(obj_positions)) if check_reached[i] == 0]\n",
    "# masked_pos = obj_positions[not_reached_idx,:]\n"
   ]
  },
  {
   "cell_type": "code",
   "execution_count": 57,
   "metadata": {},
   "outputs": [],
   "source": [
    "a = json.loads(sim.get_state())"
   ]
  },
  {
   "cell_type": "code",
   "execution_count": 106,
   "metadata": {},
   "outputs": [
    {
     "data": {
      "text/plain": [
       "[-0.22176707227800802, 0.3000000013647248, 1.387328085947795]"
      ]
     },
     "execution_count": 106,
     "metadata": {},
     "output_type": "execute_result"
    }
   ],
   "source": [
    "a['agents'][0][\"manipulators\"][0][\"position\"]"
   ]
  },
  {
   "cell_type": "code",
   "execution_count": 105,
   "metadata": {},
   "outputs": [
    {
     "data": {
      "text/plain": [
       "array([-0.12176707,  0.1       ,  0.28732809])"
      ]
     },
     "execution_count": 105,
     "metadata": {},
     "output_type": "execute_result"
    }
   ],
   "source": [
    "get_end_effector_pos(sim)"
   ]
  },
  {
   "cell_type": "code",
   "execution_count": 108,
   "metadata": {},
   "outputs": [
    {
     "data": {
      "text/plain": [
       "array([[-2.00001026e-01,  2.99998982e-01],\n",
       "       [ 2.09999308e-01,  1.25786304e-06],\n",
       "       [-2.00000012e-01, -2.99867919e-01]])"
      ]
     },
     "execution_count": 108,
     "metadata": {},
     "output_type": "execute_result"
    }
   ],
   "source": [
    "get_obj_locations(sim)"
   ]
  },
  {
   "cell_type": "code",
   "execution_count": 115,
   "metadata": {},
   "outputs": [
    {
     "data": {
      "text/plain": [
       "array([-0.20000103,  0.29999898,  1.1       ])"
      ]
     },
     "execution_count": 115,
     "metadata": {},
     "output_type": "execute_result"
    }
   ],
   "source": [
    "obj_loc = closest_object(sim)\n",
    "np.concatenate([obj_loc, [1.1]])"
   ]
  },
  {
   "cell_type": "code",
   "execution_count": 8,
   "metadata": {},
   "outputs": [
    {
     "name": "stdout",
     "output_type": "stream",
     "text": [
      "2\n"
     ]
    }
   ],
   "source": [
    "b = [np.array([1,2,3]),np.array([4,5,6])]\n",
    "b_list = []\n",
    "for arr in b:\n",
    "    b_list.append(arr.tolist())\n",
    "print(len(b_list))\n",
    "b= []\n",
    "for lis in b_list:\n",
    "    b.append(np.array(lis))"
   ]
  },
  {
   "cell_type": "code",
   "execution_count": 11,
   "metadata": {},
   "outputs": [
    {
     "name": "stdout",
     "output_type": "stream",
     "text": [
      "3D triangle (triangular prism) exported as 'triangle_prism.stl'\n"
     ]
    }
   ],
   "source": [
    "import trimesh\n",
    "import shapely.geometry as geometry\n",
    "\n",
    "# Define a 2D triangle using Shapely\n",
    "triangle = geometry.Polygon([(-0.1328, 0), (0.1328, 0), (0.1328, -0.11)])  # Equilateral triangle\n",
    "\n",
    "# Extrude the triangle along the Z-axis to create a 3D shape\n",
    "height = .01  # Adjust this to change the height\n",
    "mesh = trimesh.creation.extrude_polygon(triangle, height=height)\n",
    "\n",
    "mesh.apply_transform(trimesh.transformations.rotation_matrix(angle=-1.5708, direction=[1, 0, 0]))\n",
    "# Export the mesh to an STL file\n",
    "mesh.export('../src/Smile/src/AffAction/config/xml/CCDP/triangle.stl')\n",
    "\n",
    "print(\"3D triangle (triangular prism) exported as 'triangle_prism.stl'\")"
   ]
  },
  {
   "cell_type": "code",
   "execution_count": 6,
   "metadata": {},
   "outputs": [
    {
     "data": {
      "text/plain": [
       "0.8660254037844386"
      ]
     },
     "execution_count": 6,
     "metadata": {},
     "output_type": "execute_result"
    }
   ],
   "source": [
    "3**0.5/2"
   ]
  }
 ],
 "metadata": {
  "kernelspec": {
   "display_name": "fr",
   "language": "python",
   "name": "python3"
  },
  "language_info": {
   "codemirror_mode": {
    "name": "ipython",
    "version": 3
   },
   "file_extension": ".py",
   "mimetype": "text/x-python",
   "name": "python",
   "nbconvert_exporter": "python",
   "pygments_lexer": "ipython3",
   "version": "3.10.13"
  }
 },
 "nbformat": 4,
 "nbformat_minor": 2
}
